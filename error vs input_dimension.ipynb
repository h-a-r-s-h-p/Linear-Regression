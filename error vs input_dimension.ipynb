{
  "nbformat": 4,
  "nbformat_minor": 0,
  "metadata": {
    "colab": {
      "name": "LR OELP.ipynb",
      "provenance": [],
      "collapsed_sections": [],
      "authorship_tag": "ABX9TyNix8mtvWRz4oiPlQzlqrDE",
      "include_colab_link": true
    },
    "kernelspec": {
      "display_name": "Python 3",
      "name": "python3"
    }
  },
  "cells": [
    {
      "cell_type": "markdown",
      "metadata": {
        "id": "view-in-github",
        "colab_type": "text"
      },
      "source": [
        "<a href=\"https://colab.research.google.com/github/h-a-r-s-h-p/Linear-Regression/blob/main/error%20vs%20input_dimension.ipynb\" target=\"_parent\"><img src=\"https://colab.research.google.com/assets/colab-badge.svg\" alt=\"Open In Colab\"/></a>"
      ]
    },
    {
      "cell_type": "code",
      "metadata": {
        "id": "stMH6cFhCxG5"
      },
      "source": [
        "import numpy as np\n",
        "import sklearn\n",
        "from sklearn.model_selection import KFold\n",
        "import pandas as pd\n",
        "from sklearn.model_selection import train_test_split\n",
        "from sklearn.linear_model import LinearRegression\n",
        "import matplotlib.pyplot as plt\n",
        "from sklearn.model_selection import cross_val_score"
      ],
      "execution_count": 29,
      "outputs": []
    },
    {
      "cell_type": "code",
      "metadata": {
        "id": "-h5SZPtJcCtX"
      },
      "source": [
        "target_dimension=1\n",
        "# input_dimension=10\n",
        "no_of_instances=500"
      ],
      "execution_count": 42,
      "outputs": []
    },
    {
      "cell_type": "code",
      "metadata": {
        "id": "4RMktf2M6BQo"
      },
      "source": [
        "def genDataset():            #data generator with 100 input dimension and 1000 instances\n",
        "    inputs=np.random.rand(1000,100)*1000\n",
        "    weight= np.random.rand(target_dimension,100)\n",
        "    bias= np.random.rand(1000,target_dimension)\n",
        "    # print(\"inputs shape= \", inputs.shape)\n",
        "    # print(\" weight shape= \",weight.shape)\n",
        "    # print(\"bias shape= \", bias.shape)\n",
        "    targets= inputs @ weight.T + bias\n",
        "    targets=np.reshape(targets,1000)\n",
        "    targets=targets+np.random.normal(0,30,len(targets))\n",
        "    data=pd.DataFrame(targets,columns=['y'])                     # creates a table like dataframe with 1 column 'y'\n",
        "    for i in range(100):\n",
        "        temp=[inputs[x][i] for x in range(1000)]\n",
        "        temp=pd.DataFrame(temp)\n",
        "        data['x%d'%i]=temp\n",
        "    \n",
        "    # plt.plot(data['x0'],data['y'],'.')\n",
        "    # plt.show()\n",
        "    print(data.head())                                           # head() takes as parameter an integer(k) and returns first k elements of data, by default it is 5\n",
        "    return data"
      ],
      "execution_count": 43,
      "outputs": []
    },
    {
      "cell_type": "code",
      "metadata": {
        "colab": {
          "base_uri": "https://localhost:8080/"
        },
        "id": "7HpEduwgC_sk",
        "outputId": "f0e032e5-a5ad-4476-aa79-17d06102ff54"
      },
      "source": [
        "Large_data=genDataset()"
      ],
      "execution_count": 44,
      "outputs": [
        {
          "output_type": "stream",
          "text": [
            "              y          x0          x1  ...         x97         x98         x99\n",
            "0  25604.718300  469.620751  563.115042  ...   67.081659  221.252633  275.097493\n",
            "1  26049.811546  960.310686  123.686781  ...  269.190335   58.626263  968.123807\n",
            "2  27555.647453  206.406166   41.929980  ...  324.399966  982.838724  428.026440\n",
            "3  26472.236462  395.832141  843.010740  ...  985.115745  832.225528  337.971526\n",
            "4  25557.493439  114.699822  489.704617  ...  293.848291  451.639171  107.925576\n",
            "\n",
            "[5 rows x 101 columns]\n"
          ],
          "name": "stdout"
        }
      ]
    },
    {
      "cell_type": "code",
      "metadata": {
        "id": "jJh7OoKBDFSd"
      },
      "source": [
        "# data=genDataset(10,1)\n",
        "# plt.plot(data['x0'],data['y'],'.')\n",
        "# plt.show()\n",
        "def KFoldLR(n,d):\n",
        "    data=Large_data.head(n)\n",
        "    # print(data.shape)\n",
        "    in_col=[]                                           #input columns's names\n",
        "    for i in range(d):\n",
        "        in_col.append('x%d'%i)\n",
        "    linreg=LinearRegression()\n",
        "    error=cross_val_score(linreg,data[in_col],data['y'],scoring='neg_mean_squared_error')   #returns a ndarray of length no. of folds which contains average for each fold\n",
        "    error=-1*error\n",
        "    # print(error)\n",
        "    avg_error=np.average(error)\n",
        "    plt.plot(d,avg_error,'.')\n"
      ],
      "execution_count": 45,
      "outputs": []
    },
    {
      "cell_type": "code",
      "metadata": {
        "colab": {
          "base_uri": "https://localhost:8080/",
          "height": 295
        },
        "id": "rzjIbATlp6fp",
        "outputId": "0bd7c1e5-b09e-4cc4-fb32-49c9d96b1a79"
      },
      "source": [
        "plt.xlabel(\"d\")\n",
        "plt.ylabel(\"error\")\n",
        "plt.title(\"input dimension vs error \")\n",
        "for input_dimension in range(10,100,10):\n",
        "    KFoldLR(no_of_instances,input_dimension)\n",
        "plt.show()"
      ],
      "execution_count": 46,
      "outputs": [
        {
          "output_type": "display_data",
          "data": {
            "image/png": "[encoded data removed]",
            "text/plain": [
              "<Figure size 432x288 with 1 Axes>"
            ]
          },
          "metadata": {
            "tags": [],
            "needs_background": "light"
          }
        }
      ]
    },
    {
      "cell_type": "code",
      "metadata": {
        "id": "SxYSA8VbRNOw",
        "colab": {
          "base_uri": "https://localhost:8080/"
        },
        "outputId": "5fd85b88-a396-4c2c-9126-dbe015df1f1b"
      },
      "source": [
        "x=np.array([[1],[2],[3]])*3\n",
        "x"
      ],
      "execution_count": null,
      "outputs": [
        {
          "output_type": "execute_result",
          "data": {
            "text/plain": [
              "array([[3],\n",
              "       [6],\n",
              "       [9]])"
            ]
          },
          "metadata": {
            "tags": []
          },
          "execution_count": 39
        }
      ]
    },
    {
      "cell_type": "code",
      "metadata": {
        "id": "NrQJnRCN685v"
      },
      "source": [
        "\n",
        "import numpy as np\n",
        "import torch\n",
        "from torch.utils.data import TensorDataset\n",
        "from torch.utils.data import DataLoader\n",
        "import torch.nn as nn\n",
        "import torch.nn.functional as F\n",
        "import matplotlib.pyplot as plt\n",
        "from sklearn.datasets import make_regression\n",
        "from sklearn.model_selection import KFold\n",
        "\n",
        "# no_instances=100\n",
        "input_dimension=1\n",
        "target_dimension=1\n",
        "batchsize=5\n",
        "learning_rate=0.001\n",
        "no_epochs=10\n",
        "no_folds=10\n",
        "\n",
        "loss_fn=F.mse_loss\n",
        "\n",
        "# print(\"no. of instances= \",no_instances)\n",
        "print(\"input dimension= \",input_dimension)\n",
        "print(\"target dimension= \",target_dimension)\n",
        "print(\"learning rate= \",learning_rate)\n",
        "print(\"no. of epochs = \",no_epochs)\n",
        "\n",
        "def genDataset(n,d):\n",
        "    inputs, targets = make_regression(n_samples=n, n_features=d, n_targets=target_dimension, noise=0.1)\n",
        "    return inputs,targets\n",
        "\n",
        "def teach(model,opt,train_dl):    #training our model\n",
        "    for epoch in range(no_epochs):\n",
        "        for xb,yb in train_dl:\n",
        "            print(\"\\nlen of train_dl[0]=\",len(xb))\n",
        "            pred=model(xb)\n",
        "            loss=loss_fn(pred,yb)\n",
        "            loss.backward()\n",
        "            opt.step()\n",
        "            opt.zero_grad()\n",
        "            print(\"weight = \",model.weight)\n",
        "            print(\"bias= \",model.bias)\n",
        "        print(\"error in epoch \", epoch,\" = \",loss.item())\n",
        "        print(\"\\n\")\n",
        "\n",
        "    \n",
        "\n",
        "def LR(n,d):\n",
        "    inputs,targets=genDataset(n,d)\n",
        "    \n",
        "    inputs=torch.from_numpy(inputs).float()\n",
        "    targets=torch.from_numpy(targets).float()\n",
        "    targets=targets.view(n,1)                       # converting to n rows and 1 column\n",
        "    \n",
        "    print(\"inputs size= \",inputs.shape)\n",
        "    print(\"targets size= \",targets.shape)\n",
        "    train_ds=TensorDataset(inputs,targets)                      #makes tuple of inputs and target tensors\n",
        "    print(\"train_ds[0:3]= \",train_ds[0:3])                      #firsst prints 3 input tensor then 3 target tensor\n",
        "\n",
        "    model=nn.Linear(d,target_dimension)                         #Linear regression model from d dimension to target_dimension\n",
        "    print(\"weight before training= \",model.weight)\n",
        "    print(\"bias before training= \", model.bias)\n",
        "    kfold=KFold(no_folds,True,1)\n",
        "    opt=torch.optim.SGD(model.parameters(),lr=learning_rate)    #weight and bias optimizer according to stochastic gradient descent\n",
        "    avg_loss=0\n",
        "    for train,test in kfold.split(train_ds):\n",
        "        temp=train_ds[train]\n",
        "        print(\"train_ds shape= \",temp[0].shape)\n",
        "        train_dl=DataLoader(temp,batch_size=batchsize,shuffle=True)       #Creating shuffled batches of data\n",
        "        val_fold=train_ds[test]\n",
        "        print(\"\\nlength of dataloader= \",len(train_dl))\n",
        "        print(\"\\n\")\n",
        "        teach(model,opt,train_dl)\n",
        "        \n",
        "        val_pred=model(val_fold[0])\n",
        "        error=loss_fn(val_pred,val_fold[1])\n",
        "        avg_loss=avg_loss+error.item()\n",
        "    # print(\"check1\")\n",
        "    print(\"error for n= \",n, avg_loss/no_folds)\n",
        "    plt.scatter(n,avg_loss/no_folds,s=10)\n",
        "    # print(\"check2\")\n",
        "\n",
        "LR(100,1)\n",
        "# plt.xlabel(\" n\")\n",
        "# plt.ylabel(\"error\")\n",
        "# plt.title(\"error vs no. of instances\")\n",
        "# for no_instances in range(100,1000,100):\n",
        "#     LR(no_instances,input_dimension)\n",
        "# plt.show()"
      ],
      "execution_count": null,
      "outputs": []
    },
    {
      "cell_type": "code",
      "metadata": {
        "id": "zD1eH0YwZvGq"
      },
      "source": [
        "genDataset(100,2)"
      ],
      "execution_count": null,
      "outputs": []
    },
    {
      "cell_type": "code",
      "metadata": {
        "id": "QVZIvzXeGoPX"
      },
      "source": [
        ""
      ],
      "execution_count": null,
      "outputs": []
    }
  ]
}